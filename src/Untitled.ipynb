{
 "cells": [
  {
   "cell_type": "code",
   "execution_count": 7,
   "metadata": {},
   "outputs": [],
   "source": [
    "%load_ext sql"
   ]
  },
  {
   "cell_type": "code",
   "execution_count": 9,
   "metadata": {},
   "outputs": [
    {
     "data": {
      "text/plain": [
       "'Connected: @db.sqlite3'"
      ]
     },
     "execution_count": 9,
     "metadata": {},
     "output_type": "execute_result"
    }
   ],
   "source": [
    "%sql sqlite:///db.sqlite3\n",
    "    "
   ]
  },
  {
   "cell_type": "code",
   "execution_count": 13,
   "metadata": {},
   "outputs": [
    {
     "name": "stdout",
     "output_type": "stream",
     "text": [
      " * sqlite:///db.sqlite3\n",
      "Done.\n"
     ]
    },
    {
     "data": {
      "text/html": [
       "<table>\n",
       "    <tr>\n",
       "        <th>type</th>\n",
       "        <th>name</th>\n",
       "        <th>tbl_name</th>\n",
       "        <th>rootpage</th>\n",
       "        <th>sql</th>\n",
       "    </tr>\n",
       "    <tr>\n",
       "        <td>table</td>\n",
       "        <td>django_migrations</td>\n",
       "        <td>django_migrations</td>\n",
       "        <td>2</td>\n",
       "        <td>CREATE TABLE &quot;django_migrations&quot; (&quot;id&quot; integer NOT NULL PRIMARY KEY AUTOINCREMENT, &quot;app&quot; varchar(255) NOT NULL, &quot;name&quot; varchar(255) NOT NULL, &quot;applied&quot; datetime NOT NULL)</td>\n",
       "    </tr>\n",
       "    <tr>\n",
       "        <td>table</td>\n",
       "        <td>sqlite_sequence</td>\n",
       "        <td>sqlite_sequence</td>\n",
       "        <td>3</td>\n",
       "        <td>CREATE TABLE sqlite_sequence(name,seq)</td>\n",
       "    </tr>\n",
       "    <tr>\n",
       "        <td>table</td>\n",
       "        <td>auth_group_permissions</td>\n",
       "        <td>auth_group_permissions</td>\n",
       "        <td>9</td>\n",
       "        <td>CREATE TABLE &quot;auth_group_permissions&quot; (&quot;id&quot; integer NOT NULL PRIMARY KEY AUTOINCREMENT, &quot;group_id&quot; integer NOT NULL REFERENCES &quot;auth_group&quot; (&quot;id&quot;) DEFERRABLE INITIALLY DEFERRED, &quot;permission_id&quot; integer NOT NULL REFERENCES &quot;auth_permission&quot; (&quot;id&quot;) DEFERRABLE INITIALLY DEFERRED)</td>\n",
       "    </tr>\n",
       "    <tr>\n",
       "        <td>table</td>\n",
       "        <td>auth_user_groups</td>\n",
       "        <td>auth_user_groups</td>\n",
       "        <td>12</td>\n",
       "        <td>CREATE TABLE &quot;auth_user_groups&quot; (&quot;id&quot; integer NOT NULL PRIMARY KEY AUTOINCREMENT, &quot;user_id&quot; integer NOT NULL REFERENCES &quot;auth_user&quot; (&quot;id&quot;) DEFERRABLE INITIALLY DEFERRED, &quot;group_id&quot; integer NOT NULL REFERENCES &quot;auth_group&quot; (&quot;id&quot;) DEFERRABLE INITIALLY DEFERRED)</td>\n",
       "    </tr>\n",
       "    <tr>\n",
       "        <td>table</td>\n",
       "        <td>auth_user_user_permissions</td>\n",
       "        <td>auth_user_user_permissions</td>\n",
       "        <td>13</td>\n",
       "        <td>CREATE TABLE &quot;auth_user_user_permissions&quot; (&quot;id&quot; integer NOT NULL PRIMARY KEY AUTOINCREMENT, &quot;user_id&quot; integer NOT NULL REFERENCES &quot;auth_user&quot; (&quot;id&quot;) DEFERRABLE INITIALLY DEFERRED, &quot;permission_id&quot; integer NOT NULL REFERENCES &quot;auth_permission&quot; (&quot;id&quot;) DEFERRABLE INITIALLY DEFERRED)</td>\n",
       "    </tr>\n",
       "    <tr>\n",
       "        <td>table</td>\n",
       "        <td>django_admin_log</td>\n",
       "        <td>django_admin_log</td>\n",
       "        <td>29</td>\n",
       "        <td>CREATE TABLE &quot;django_admin_log&quot; (&quot;id&quot; integer NOT NULL PRIMARY KEY AUTOINCREMENT, &quot;action_time&quot; datetime NOT NULL, &quot;object_id&quot; text NULL, &quot;object_repr&quot; varchar(200) NOT NULL, &quot;change_message&quot; text NOT NULL, &quot;content_type_id&quot; integer NULL REFERENCES &quot;django_content_type&quot; (&quot;id&quot;) DEFERRABLE INITIALLY DEFERRED, &quot;user_id&quot; integer NOT NULL REFERENCES &quot;auth_user&quot; (&quot;id&quot;) DEFERRABLE INITIALLY DEFERRED, &quot;action_flag&quot; smallint unsigned NOT NULL CHECK (&quot;action_flag&quot; &gt;= 0))</td>\n",
       "    </tr>\n",
       "    <tr>\n",
       "        <td>table</td>\n",
       "        <td>django_content_type</td>\n",
       "        <td>django_content_type</td>\n",
       "        <td>5</td>\n",
       "        <td>CREATE TABLE &quot;django_content_type&quot; (&quot;id&quot; integer NOT NULL PRIMARY KEY AUTOINCREMENT, &quot;app_label&quot; varchar(100) NOT NULL, &quot;model&quot; varchar(100) NOT NULL)</td>\n",
       "    </tr>\n",
       "    <tr>\n",
       "        <td>table</td>\n",
       "        <td>auth_permission</td>\n",
       "        <td>auth_permission</td>\n",
       "        <td>30</td>\n",
       "        <td>CREATE TABLE &quot;auth_permission&quot; (&quot;id&quot; integer NOT NULL PRIMARY KEY AUTOINCREMENT, &quot;content_type_id&quot; integer NOT NULL REFERENCES &quot;django_content_type&quot; (&quot;id&quot;) DEFERRABLE INITIALLY DEFERRED, &quot;codename&quot; varchar(100) NOT NULL, &quot;name&quot; varchar(255) NOT NULL)</td>\n",
       "    </tr>\n",
       "    <tr>\n",
       "        <td>table</td>\n",
       "        <td>auth_group</td>\n",
       "        <td>auth_group</td>\n",
       "        <td>15</td>\n",
       "        <td>CREATE TABLE &quot;auth_group&quot; (&quot;id&quot; integer NOT NULL PRIMARY KEY AUTOINCREMENT, &quot;name&quot; varchar(150) NOT NULL UNIQUE)</td>\n",
       "    </tr>\n",
       "    <tr>\n",
       "        <td>table</td>\n",
       "        <td>auth_user</td>\n",
       "        <td>auth_user</td>\n",
       "        <td>7</td>\n",
       "        <td>CREATE TABLE &quot;auth_user&quot; (&quot;id&quot; integer NOT NULL PRIMARY KEY AUTOINCREMENT, &quot;password&quot; varchar(128) NOT NULL, &quot;last_login&quot; datetime NULL, &quot;is_superuser&quot; bool NOT NULL, &quot;username&quot; varchar(150) NOT NULL UNIQUE, &quot;last_name&quot; varchar(150) NOT NULL, &quot;email&quot; varchar(254) NOT NULL, &quot;is_staff&quot; bool NOT NULL, &quot;is_active&quot; bool NOT NULL, &quot;date_joined&quot; datetime NOT NULL, &quot;first_name&quot; varchar(150) NOT NULL)</td>\n",
       "    </tr>\n",
       "    <tr>\n",
       "        <td>table</td>\n",
       "        <td>django_session</td>\n",
       "        <td>django_session</td>\n",
       "        <td>10</td>\n",
       "        <td>CREATE TABLE &quot;django_session&quot; (&quot;session_key&quot; varchar(40) NOT NULL PRIMARY KEY, &quot;session_data&quot; text NOT NULL, &quot;expire_date&quot; datetime NOT NULL)</td>\n",
       "    </tr>\n",
       "    <tr>\n",
       "        <td>table</td>\n",
       "        <td>solicitud_proyecto_solicitud_proyecto</td>\n",
       "        <td>solicitud_proyecto_solicitud_proyecto</td>\n",
       "        <td>34</td>\n",
       "        <td>CREATE TABLE &quot;solicitud_proyecto_solicitud_proyecto&quot; (&quot;id&quot; integer NOT NULL PRIMARY KEY AUTOINCREMENT, &quot;company_name&quot; varchar(500) NOT NULL, &quot;description&quot; varchar(5000) NOT NULL, &quot;requirements&quot; varchar(5000) NOT NULL, &quot;is_approved&quot; bool NOT NULL, &quot;email_address&quot; varchar(200) NOT NULL, &quot;phone_number&quot; varchar(20) NOT NULL, &quot;project_name&quot; varchar(500) NOT NULL, &quot;date&quot; datetime NOT NULL)</td>\n",
       "    </tr>\n",
       "    <tr>\n",
       "        <td>table</td>\n",
       "        <td>project_images_projectimages</td>\n",
       "        <td>project_images_projectimages</td>\n",
       "        <td>33</td>\n",
       "        <td>CREATE TABLE &quot;project_images_projectimages&quot; (&quot;id&quot; integer NOT NULL PRIMARY KEY AUTOINCREMENT, &quot;image&quot; varchar(100) NOT NULL, &quot;ifk_id&quot; integer NOT NULL REFERENCES &quot;solicitud_proyecto_solicitud_proyecto&quot; (&quot;id&quot;) DEFERRABLE INITIALLY DEFERRED)</td>\n",
       "    </tr>\n",
       "</table>"
      ],
      "text/plain": [
       "[('table', 'django_migrations', 'django_migrations', 2, 'CREATE TABLE \"django_migrations\" (\"id\" integer NOT NULL PRIMARY KEY AUTOINCREMENT, \"app\" varchar(255) NOT NULL, \"name\" varchar(255) NOT NULL, \"applied\" datetime NOT NULL)'),\n",
       " ('table', 'sqlite_sequence', 'sqlite_sequence', 3, 'CREATE TABLE sqlite_sequence(name,seq)'),\n",
       " ('table', 'auth_group_permissions', 'auth_group_permissions', 9, 'CREATE TABLE \"auth_group_permissions\" (\"id\" integer NOT NULL PRIMARY KEY AUTOINCREMENT, \"group_id\" integer NOT NULL REFERENCES \"auth_group\" (\"id\") DEFERRABLE INITIALLY DEFERRED, \"permission_id\" integer NOT NULL REFERENCES \"auth_permission\" (\"id\") DEFERRABLE INITIALLY DEFERRED)'),\n",
       " ('table', 'auth_user_groups', 'auth_user_groups', 12, 'CREATE TABLE \"auth_user_groups\" (\"id\" integer NOT NULL PRIMARY KEY AUTOINCREMENT, \"user_id\" integer NOT NULL REFERENCES \"auth_user\" (\"id\") DEFERRABLE INITIALLY DEFERRED, \"group_id\" integer NOT NULL REFERENCES \"auth_group\" (\"id\") DEFERRABLE INITIALLY DEFERRED)'),\n",
       " ('table', 'auth_user_user_permissions', 'auth_user_user_permissions', 13, 'CREATE TABLE \"auth_user_user_permissions\" (\"id\" integer NOT NULL PRIMARY KEY AUTOINCREMENT, \"user_id\" integer NOT NULL REFERENCES \"auth_user\" (\"id\") DEFERRABLE INITIALLY DEFERRED, \"permission_id\" integer NOT NULL REFERENCES \"auth_permission\" (\"id\") DEFERRABLE INITIALLY DEFERRED)'),\n",
       " ('table', 'django_admin_log', 'django_admin_log', 29, 'CREATE TABLE \"django_admin_log\" (\"id\" integer NOT NULL PRIMARY KEY AUTOINCREMENT, \"action_time\" datetime NOT NULL, \"object_id\" text NULL, \"object_rep ... (167 characters truncated) ... d\" integer NOT NULL REFERENCES \"auth_user\" (\"id\") DEFERRABLE INITIALLY DEFERRED, \"action_flag\" smallint unsigned NOT NULL CHECK (\"action_flag\" >= 0))'),\n",
       " ('table', 'django_content_type', 'django_content_type', 5, 'CREATE TABLE \"django_content_type\" (\"id\" integer NOT NULL PRIMARY KEY AUTOINCREMENT, \"app_label\" varchar(100) NOT NULL, \"model\" varchar(100) NOT NULL)'),\n",
       " ('table', 'auth_permission', 'auth_permission', 30, 'CREATE TABLE \"auth_permission\" (\"id\" integer NOT NULL PRIMARY KEY AUTOINCREMENT, \"content_type_id\" integer NOT NULL REFERENCES \"django_content_type\" (\"id\") DEFERRABLE INITIALLY DEFERRED, \"codename\" varchar(100) NOT NULL, \"name\" varchar(255) NOT NULL)'),\n",
       " ('table', 'auth_group', 'auth_group', 15, 'CREATE TABLE \"auth_group\" (\"id\" integer NOT NULL PRIMARY KEY AUTOINCREMENT, \"name\" varchar(150) NOT NULL UNIQUE)'),\n",
       " ('table', 'auth_user', 'auth_user', 7, 'CREATE TABLE \"auth_user\" (\"id\" integer NOT NULL PRIMARY KEY AUTOINCREMENT, \"password\" varchar(128) NOT NULL, \"last_login\" datetime NULL, \"is_superuse ... (97 characters truncated) ... ail\" varchar(254) NOT NULL, \"is_staff\" bool NOT NULL, \"is_active\" bool NOT NULL, \"date_joined\" datetime NOT NULL, \"first_name\" varchar(150) NOT NULL)'),\n",
       " ('table', 'django_session', 'django_session', 10, 'CREATE TABLE \"django_session\" (\"session_key\" varchar(40) NOT NULL PRIMARY KEY, \"session_data\" text NOT NULL, \"expire_date\" datetime NOT NULL)'),\n",
       " ('table', 'solicitud_proyecto_solicitud_proyecto', 'solicitud_proyecto_solicitud_proyecto', 34, 'CREATE TABLE \"solicitud_proyecto_solicitud_proyecto\" (\"id\" integer NOT NULL PRIMARY KEY AUTOINCREMENT, \"company_name\" varchar(500) NOT NULL, \"descrip ... (88 characters truncated) ... NOT NULL, \"email_address\" varchar(200) NOT NULL, \"phone_number\" varchar(20) NOT NULL, \"project_name\" varchar(500) NOT NULL, \"date\" datetime NOT NULL)'),\n",
       " ('table', 'project_images_projectimages', 'project_images_projectimages', 33, 'CREATE TABLE \"project_images_projectimages\" (\"id\" integer NOT NULL PRIMARY KEY AUTOINCREMENT, \"image\" varchar(100) NOT NULL, \"ifk_id\" integer NOT NULL REFERENCES \"solicitud_proyecto_solicitud_proyecto\" (\"id\") DEFERRABLE INITIALLY DEFERRED)')]"
      ]
     },
     "execution_count": 13,
     "metadata": {},
     "output_type": "execute_result"
    }
   ],
   "source": [
    "%sql SELECT * FROM sqlite_master WHERE type = \"table\";"
   ]
  },
  {
   "cell_type": "code",
   "execution_count": 14,
   "metadata": {},
   "outputs": [
    {
     "name": "stdout",
     "output_type": "stream",
     "text": [
      " * sqlite:///db.sqlite3\n",
      "Done.\n"
     ]
    },
    {
     "data": {
      "text/html": [
       "<table>\n",
       "    <tr>\n",
       "        <th>id</th>\n",
       "        <th>image</th>\n",
       "        <th>ifk_id</th>\n",
       "    </tr>\n",
       "</table>"
      ],
      "text/plain": [
       "[]"
      ]
     },
     "execution_count": 14,
     "metadata": {},
     "output_type": "execute_result"
    }
   ],
   "source": [
    "%sql SELECT * FROM project_images_projectimages"
   ]
  },
  {
   "cell_type": "code",
   "execution_count": null,
   "metadata": {},
   "outputs": [],
   "source": []
  }
 ],
 "metadata": {
  "kernelspec": {
   "display_name": "Python 3",
   "language": "python",
   "name": "python3"
  },
  "language_info": {
   "codemirror_mode": {
    "name": "ipython",
    "version": 3
   },
   "file_extension": ".py",
   "mimetype": "text/x-python",
   "name": "python",
   "nbconvert_exporter": "python",
   "pygments_lexer": "ipython3",
   "version": "3.8.3"
  }
 },
 "nbformat": 4,
 "nbformat_minor": 4
}
